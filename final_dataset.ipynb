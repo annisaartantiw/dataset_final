{
  "nbformat": 4,
  "nbformat_minor": 0,
  "metadata": {
    "colab": {
      "provenance": []
    },
    "kernelspec": {
      "name": "python3",
      "display_name": "Python 3"
    },
    "language_info": {
      "name": "python"
    }
  },
  "cells": [
    {
      "cell_type": "markdown",
      "source": [
        "### PERSIAPAN DATA"
      ],
      "metadata": {
        "id": "BaZoBJPjWQJ4"
      }
    },
    {
      "cell_type": "code",
      "execution_count": 1,
      "metadata": {
        "id": "uzo9LNbYQ52v"
      },
      "outputs": [],
      "source": [
        "import pandas as pd"
      ]
    },
    {
      "cell_type": "code",
      "source": [
        "# Baca data dari file CSV\n",
        "file_path = 'final_dataset.csv'\n",
        "df = pd.read_csv(file_path)\n",
        "df.head()"
      ],
      "metadata": {
        "colab": {
          "base_uri": "https://localhost:8080/",
          "height": 746
        },
        "id": "DyPnsx4eUIzd",
        "outputId": "14201ccc-6d8c-4c26-936d-3932c816f9bd"
      },
      "execution_count": 2,
      "outputs": [
        {
          "output_type": "execute_result",
          "data": {
            "text/plain": [
              "  Participant_ID  Gender       cuisine  ethnic_food  \\\n",
              "0         FPS001  Female  Korean/Asian            5   \n",
              "1         FPS002  Female         other            4   \n",
              "2         FPS003  Female      American            2   \n",
              "3         FPS004  Female      American            5   \n",
              "4         FPS005  Female      American            5   \n",
              "\n",
              "                             fav_cuisine  fruit_day  greek_food  indian_food  \\\n",
              "0                                italian          5           5            5   \n",
              "1                                African          2           2            5   \n",
              "2               Anything american style.          5           3            1   \n",
              "3  Orange chicken and chow mani noodles           5           1            1   \n",
              "4                                italian          5           4            3   \n",
              "\n",
              "   italian_food     marital_status  persian_food  thai_food  veggies_day  \\\n",
              "0             5  In a relationship             5          5            5   \n",
              "1             5  In a relationship             5          4            1   \n",
              "2             3             Single             1          1            4   \n",
              "3             5             Single             2          2            5   \n",
              "4             5  In a relationship             3          5            5   \n",
              "\n",
              "                     weight  Age Nationality  \\\n",
              "0  I'm not answering this.    16      Indian   \n",
              "1                       190   16      Indian   \n",
              "2                       137   16      Indian   \n",
              "3                       116   16      Indian   \n",
              "4                       123   16      Indian   \n",
              "\n",
              "                                                Food Dessert  \\\n",
              "0  cereal, frozen yogurt, pizza, fast food, mac a...     Yes   \n",
              "1  cereal, Candy, brownies and soda., Fries, plai...     Yes   \n",
              "2  cereal, Ice cream, cheeseburgers, chips., chic...     Yes   \n",
              "3  cereal, Pasta, grandma homemade chocolate cake...     Yes   \n",
              "4  cereal, ice cream, cake, chocolate, steak, las...     Yes   \n",
              "\n",
              "                                               Drink  \n",
              "0  espresso shown, orange juice, Fresh Juice, Fre...  \n",
              "1     espresso shown, soda, Fresh Juice, Fresh Juice  \n",
              "2  creamy frapuccino, soda, Fresh Juice, Fresh Juice  \n",
              "3     espresso shown, soda, Fresh Juice, Fresh Juice  \n",
              "4     espresso shown, soda, Fresh Juice, Fresh Juice  "
            ],
            "text/html": [
              "\n",
              "  <div id=\"df-b35300e0-b2fd-41c9-9c39-1542001af80a\" class=\"colab-df-container\">\n",
              "    <div>\n",
              "<style scoped>\n",
              "    .dataframe tbody tr th:only-of-type {\n",
              "        vertical-align: middle;\n",
              "    }\n",
              "\n",
              "    .dataframe tbody tr th {\n",
              "        vertical-align: top;\n",
              "    }\n",
              "\n",
              "    .dataframe thead th {\n",
              "        text-align: right;\n",
              "    }\n",
              "</style>\n",
              "<table border=\"1\" class=\"dataframe\">\n",
              "  <thead>\n",
              "    <tr style=\"text-align: right;\">\n",
              "      <th></th>\n",
              "      <th>Participant_ID</th>\n",
              "      <th>Gender</th>\n",
              "      <th>cuisine</th>\n",
              "      <th>ethnic_food</th>\n",
              "      <th>fav_cuisine</th>\n",
              "      <th>fruit_day</th>\n",
              "      <th>greek_food</th>\n",
              "      <th>indian_food</th>\n",
              "      <th>italian_food</th>\n",
              "      <th>marital_status</th>\n",
              "      <th>persian_food</th>\n",
              "      <th>thai_food</th>\n",
              "      <th>veggies_day</th>\n",
              "      <th>weight</th>\n",
              "      <th>Age</th>\n",
              "      <th>Nationality</th>\n",
              "      <th>Food</th>\n",
              "      <th>Dessert</th>\n",
              "      <th>Drink</th>\n",
              "    </tr>\n",
              "  </thead>\n",
              "  <tbody>\n",
              "    <tr>\n",
              "      <th>0</th>\n",
              "      <td>FPS001</td>\n",
              "      <td>Female</td>\n",
              "      <td>Korean/Asian</td>\n",
              "      <td>5</td>\n",
              "      <td>italian</td>\n",
              "      <td>5</td>\n",
              "      <td>5</td>\n",
              "      <td>5</td>\n",
              "      <td>5</td>\n",
              "      <td>In a relationship</td>\n",
              "      <td>5</td>\n",
              "      <td>5</td>\n",
              "      <td>5</td>\n",
              "      <td>I'm not answering this.</td>\n",
              "      <td>16</td>\n",
              "      <td>Indian</td>\n",
              "      <td>cereal, frozen yogurt, pizza, fast food, mac a...</td>\n",
              "      <td>Yes</td>\n",
              "      <td>espresso shown, orange juice, Fresh Juice, Fre...</td>\n",
              "    </tr>\n",
              "    <tr>\n",
              "      <th>1</th>\n",
              "      <td>FPS002</td>\n",
              "      <td>Female</td>\n",
              "      <td>other</td>\n",
              "      <td>4</td>\n",
              "      <td>African</td>\n",
              "      <td>2</td>\n",
              "      <td>2</td>\n",
              "      <td>5</td>\n",
              "      <td>5</td>\n",
              "      <td>In a relationship</td>\n",
              "      <td>5</td>\n",
              "      <td>4</td>\n",
              "      <td>1</td>\n",
              "      <td>190</td>\n",
              "      <td>16</td>\n",
              "      <td>Indian</td>\n",
              "      <td>cereal, Candy, brownies and soda., Fries, plai...</td>\n",
              "      <td>Yes</td>\n",
              "      <td>espresso shown, soda, Fresh Juice, Fresh Juice</td>\n",
              "    </tr>\n",
              "    <tr>\n",
              "      <th>2</th>\n",
              "      <td>FPS003</td>\n",
              "      <td>Female</td>\n",
              "      <td>American</td>\n",
              "      <td>2</td>\n",
              "      <td>Anything american style.</td>\n",
              "      <td>5</td>\n",
              "      <td>3</td>\n",
              "      <td>1</td>\n",
              "      <td>3</td>\n",
              "      <td>Single</td>\n",
              "      <td>1</td>\n",
              "      <td>1</td>\n",
              "      <td>4</td>\n",
              "      <td>137</td>\n",
              "      <td>16</td>\n",
              "      <td>Indian</td>\n",
              "      <td>cereal, Ice cream, cheeseburgers, chips., chic...</td>\n",
              "      <td>Yes</td>\n",
              "      <td>creamy frapuccino, soda, Fresh Juice, Fresh Juice</td>\n",
              "    </tr>\n",
              "    <tr>\n",
              "      <th>3</th>\n",
              "      <td>FPS004</td>\n",
              "      <td>Female</td>\n",
              "      <td>American</td>\n",
              "      <td>5</td>\n",
              "      <td>Orange chicken and chow mani noodles</td>\n",
              "      <td>5</td>\n",
              "      <td>1</td>\n",
              "      <td>1</td>\n",
              "      <td>5</td>\n",
              "      <td>Single</td>\n",
              "      <td>2</td>\n",
              "      <td>2</td>\n",
              "      <td>5</td>\n",
              "      <td>116</td>\n",
              "      <td>16</td>\n",
              "      <td>Indian</td>\n",
              "      <td>cereal, Pasta, grandma homemade chocolate cake...</td>\n",
              "      <td>Yes</td>\n",
              "      <td>espresso shown, soda, Fresh Juice, Fresh Juice</td>\n",
              "    </tr>\n",
              "    <tr>\n",
              "      <th>4</th>\n",
              "      <td>FPS005</td>\n",
              "      <td>Female</td>\n",
              "      <td>American</td>\n",
              "      <td>5</td>\n",
              "      <td>italian</td>\n",
              "      <td>5</td>\n",
              "      <td>4</td>\n",
              "      <td>3</td>\n",
              "      <td>5</td>\n",
              "      <td>In a relationship</td>\n",
              "      <td>3</td>\n",
              "      <td>5</td>\n",
              "      <td>5</td>\n",
              "      <td>123</td>\n",
              "      <td>16</td>\n",
              "      <td>Indian</td>\n",
              "      <td>cereal, ice cream, cake, chocolate, steak, las...</td>\n",
              "      <td>Yes</td>\n",
              "      <td>espresso shown, soda, Fresh Juice, Fresh Juice</td>\n",
              "    </tr>\n",
              "  </tbody>\n",
              "</table>\n",
              "</div>\n",
              "    <div class=\"colab-df-buttons\">\n",
              "\n",
              "  <div class=\"colab-df-container\">\n",
              "    <button class=\"colab-df-convert\" onclick=\"convertToInteractive('df-b35300e0-b2fd-41c9-9c39-1542001af80a')\"\n",
              "            title=\"Convert this dataframe to an interactive table.\"\n",
              "            style=\"display:none;\">\n",
              "\n",
              "  <svg xmlns=\"http://www.w3.org/2000/svg\" height=\"24px\" viewBox=\"0 -960 960 960\">\n",
              "    <path d=\"M120-120v-720h720v720H120Zm60-500h600v-160H180v160Zm220 220h160v-160H400v160Zm0 220h160v-160H400v160ZM180-400h160v-160H180v160Zm440 0h160v-160H620v160ZM180-180h160v-160H180v160Zm440 0h160v-160H620v160Z\"/>\n",
              "  </svg>\n",
              "    </button>\n",
              "\n",
              "  <style>\n",
              "    .colab-df-container {\n",
              "      display:flex;\n",
              "      gap: 12px;\n",
              "    }\n",
              "\n",
              "    .colab-df-convert {\n",
              "      background-color: #E8F0FE;\n",
              "      border: none;\n",
              "      border-radius: 50%;\n",
              "      cursor: pointer;\n",
              "      display: none;\n",
              "      fill: #1967D2;\n",
              "      height: 32px;\n",
              "      padding: 0 0 0 0;\n",
              "      width: 32px;\n",
              "    }\n",
              "\n",
              "    .colab-df-convert:hover {\n",
              "      background-color: #E2EBFA;\n",
              "      box-shadow: 0px 1px 2px rgba(60, 64, 67, 0.3), 0px 1px 3px 1px rgba(60, 64, 67, 0.15);\n",
              "      fill: #174EA6;\n",
              "    }\n",
              "\n",
              "    .colab-df-buttons div {\n",
              "      margin-bottom: 4px;\n",
              "    }\n",
              "\n",
              "    [theme=dark] .colab-df-convert {\n",
              "      background-color: #3B4455;\n",
              "      fill: #D2E3FC;\n",
              "    }\n",
              "\n",
              "    [theme=dark] .colab-df-convert:hover {\n",
              "      background-color: #434B5C;\n",
              "      box-shadow: 0px 1px 3px 1px rgba(0, 0, 0, 0.15);\n",
              "      filter: drop-shadow(0px 1px 2px rgba(0, 0, 0, 0.3));\n",
              "      fill: #FFFFFF;\n",
              "    }\n",
              "  </style>\n",
              "\n",
              "    <script>\n",
              "      const buttonEl =\n",
              "        document.querySelector('#df-b35300e0-b2fd-41c9-9c39-1542001af80a button.colab-df-convert');\n",
              "      buttonEl.style.display =\n",
              "        google.colab.kernel.accessAllowed ? 'block' : 'none';\n",
              "\n",
              "      async function convertToInteractive(key) {\n",
              "        const element = document.querySelector('#df-b35300e0-b2fd-41c9-9c39-1542001af80a');\n",
              "        const dataTable =\n",
              "          await google.colab.kernel.invokeFunction('convertToInteractive',\n",
              "                                                    [key], {});\n",
              "        if (!dataTable) return;\n",
              "\n",
              "        const docLinkHtml = 'Like what you see? Visit the ' +\n",
              "          '<a target=\"_blank\" href=https://colab.research.google.com/notebooks/data_table.ipynb>data table notebook</a>'\n",
              "          + ' to learn more about interactive tables.';\n",
              "        element.innerHTML = '';\n",
              "        dataTable['output_type'] = 'display_data';\n",
              "        await google.colab.output.renderOutput(dataTable, element);\n",
              "        const docLink = document.createElement('div');\n",
              "        docLink.innerHTML = docLinkHtml;\n",
              "        element.appendChild(docLink);\n",
              "      }\n",
              "    </script>\n",
              "  </div>\n",
              "\n",
              "\n",
              "<div id=\"df-703ee7ce-80b0-4e21-a26a-48782e69878d\">\n",
              "  <button class=\"colab-df-quickchart\" onclick=\"quickchart('df-703ee7ce-80b0-4e21-a26a-48782e69878d')\"\n",
              "            title=\"Suggest charts\"\n",
              "            style=\"display:none;\">\n",
              "\n",
              "<svg xmlns=\"http://www.w3.org/2000/svg\" height=\"24px\"viewBox=\"0 0 24 24\"\n",
              "     width=\"24px\">\n",
              "    <g>\n",
              "        <path d=\"M19 3H5c-1.1 0-2 .9-2 2v14c0 1.1.9 2 2 2h14c1.1 0 2-.9 2-2V5c0-1.1-.9-2-2-2zM9 17H7v-7h2v7zm4 0h-2V7h2v10zm4 0h-2v-4h2v4z\"/>\n",
              "    </g>\n",
              "</svg>\n",
              "  </button>\n",
              "\n",
              "<style>\n",
              "  .colab-df-quickchart {\n",
              "      --bg-color: #E8F0FE;\n",
              "      --fill-color: #1967D2;\n",
              "      --hover-bg-color: #E2EBFA;\n",
              "      --hover-fill-color: #174EA6;\n",
              "      --disabled-fill-color: #AAA;\n",
              "      --disabled-bg-color: #DDD;\n",
              "  }\n",
              "\n",
              "  [theme=dark] .colab-df-quickchart {\n",
              "      --bg-color: #3B4455;\n",
              "      --fill-color: #D2E3FC;\n",
              "      --hover-bg-color: #434B5C;\n",
              "      --hover-fill-color: #FFFFFF;\n",
              "      --disabled-bg-color: #3B4455;\n",
              "      --disabled-fill-color: #666;\n",
              "  }\n",
              "\n",
              "  .colab-df-quickchart {\n",
              "    background-color: var(--bg-color);\n",
              "    border: none;\n",
              "    border-radius: 50%;\n",
              "    cursor: pointer;\n",
              "    display: none;\n",
              "    fill: var(--fill-color);\n",
              "    height: 32px;\n",
              "    padding: 0;\n",
              "    width: 32px;\n",
              "  }\n",
              "\n",
              "  .colab-df-quickchart:hover {\n",
              "    background-color: var(--hover-bg-color);\n",
              "    box-shadow: 0 1px 2px rgba(60, 64, 67, 0.3), 0 1px 3px 1px rgba(60, 64, 67, 0.15);\n",
              "    fill: var(--button-hover-fill-color);\n",
              "  }\n",
              "\n",
              "  .colab-df-quickchart-complete:disabled,\n",
              "  .colab-df-quickchart-complete:disabled:hover {\n",
              "    background-color: var(--disabled-bg-color);\n",
              "    fill: var(--disabled-fill-color);\n",
              "    box-shadow: none;\n",
              "  }\n",
              "\n",
              "  .colab-df-spinner {\n",
              "    border: 2px solid var(--fill-color);\n",
              "    border-color: transparent;\n",
              "    border-bottom-color: var(--fill-color);\n",
              "    animation:\n",
              "      spin 1s steps(1) infinite;\n",
              "  }\n",
              "\n",
              "  @keyframes spin {\n",
              "    0% {\n",
              "      border-color: transparent;\n",
              "      border-bottom-color: var(--fill-color);\n",
              "      border-left-color: var(--fill-color);\n",
              "    }\n",
              "    20% {\n",
              "      border-color: transparent;\n",
              "      border-left-color: var(--fill-color);\n",
              "      border-top-color: var(--fill-color);\n",
              "    }\n",
              "    30% {\n",
              "      border-color: transparent;\n",
              "      border-left-color: var(--fill-color);\n",
              "      border-top-color: var(--fill-color);\n",
              "      border-right-color: var(--fill-color);\n",
              "    }\n",
              "    40% {\n",
              "      border-color: transparent;\n",
              "      border-right-color: var(--fill-color);\n",
              "      border-top-color: var(--fill-color);\n",
              "    }\n",
              "    60% {\n",
              "      border-color: transparent;\n",
              "      border-right-color: var(--fill-color);\n",
              "    }\n",
              "    80% {\n",
              "      border-color: transparent;\n",
              "      border-right-color: var(--fill-color);\n",
              "      border-bottom-color: var(--fill-color);\n",
              "    }\n",
              "    90% {\n",
              "      border-color: transparent;\n",
              "      border-bottom-color: var(--fill-color);\n",
              "    }\n",
              "  }\n",
              "</style>\n",
              "\n",
              "  <script>\n",
              "    async function quickchart(key) {\n",
              "      const quickchartButtonEl =\n",
              "        document.querySelector('#' + key + ' button');\n",
              "      quickchartButtonEl.disabled = true;  // To prevent multiple clicks.\n",
              "      quickchartButtonEl.classList.add('colab-df-spinner');\n",
              "      try {\n",
              "        const charts = await google.colab.kernel.invokeFunction(\n",
              "            'suggestCharts', [key], {});\n",
              "      } catch (error) {\n",
              "        console.error('Error during call to suggestCharts:', error);\n",
              "      }\n",
              "      quickchartButtonEl.classList.remove('colab-df-spinner');\n",
              "      quickchartButtonEl.classList.add('colab-df-quickchart-complete');\n",
              "    }\n",
              "    (() => {\n",
              "      let quickchartButtonEl =\n",
              "        document.querySelector('#df-703ee7ce-80b0-4e21-a26a-48782e69878d button');\n",
              "      quickchartButtonEl.style.display =\n",
              "        google.colab.kernel.accessAllowed ? 'block' : 'none';\n",
              "    })();\n",
              "  </script>\n",
              "</div>\n",
              "    </div>\n",
              "  </div>\n"
            ]
          },
          "metadata": {},
          "execution_count": 2
        }
      ]
    },
    {
      "cell_type": "markdown",
      "source": [],
      "metadata": {
        "id": "o0Ss9lFHWJgM"
      }
    },
    {
      "cell_type": "code",
      "source": [
        "df.info()"
      ],
      "metadata": {
        "colab": {
          "base_uri": "https://localhost:8080/"
        },
        "id": "psIgtqxaUQeM",
        "outputId": "884f6055-dd69-44d1-f947-d845325c2837"
      },
      "execution_count": 4,
      "outputs": [
        {
          "output_type": "stream",
          "name": "stdout",
          "text": [
            "<class 'pandas.core.frame.DataFrame'>\n",
            "RangeIndex: 149 entries, 0 to 148\n",
            "Data columns (total 19 columns):\n",
            " #   Column          Non-Null Count  Dtype \n",
            "---  ------          --------------  ----- \n",
            " 0   Participant_ID  149 non-null    object\n",
            " 1   Gender          149 non-null    object\n",
            " 2   cuisine         149 non-null    object\n",
            " 3   ethnic_food     149 non-null    int64 \n",
            " 4   fav_cuisine     149 non-null    object\n",
            " 5   fruit_day       149 non-null    int64 \n",
            " 6   greek_food      149 non-null    int64 \n",
            " 7   indian_food     149 non-null    int64 \n",
            " 8   italian_food    149 non-null    int64 \n",
            " 9   marital_status  149 non-null    object\n",
            " 10  persian_food    149 non-null    int64 \n",
            " 11  thai_food       149 non-null    int64 \n",
            " 12  veggies_day     149 non-null    int64 \n",
            " 13  weight          149 non-null    object\n",
            " 14  Age             149 non-null    int64 \n",
            " 15  Nationality     149 non-null    object\n",
            " 16  Food            149 non-null    object\n",
            " 17  Dessert         149 non-null    object\n",
            " 18  Drink           149 non-null    object\n",
            "dtypes: int64(9), object(10)\n",
            "memory usage: 22.2+ KB\n"
          ]
        }
      ]
    },
    {
      "cell_type": "code",
      "source": [
        "df.isnull().sum()"
      ],
      "metadata": {
        "colab": {
          "base_uri": "https://localhost:8080/"
        },
        "id": "ulI9eGEsUgka",
        "outputId": "d98b1053-d2db-4b6d-e9ef-aaacfaed5f45"
      },
      "execution_count": 5,
      "outputs": [
        {
          "output_type": "execute_result",
          "data": {
            "text/plain": [
              "Participant_ID    0\n",
              "Gender            0\n",
              "cuisine           0\n",
              "ethnic_food       0\n",
              "fav_cuisine       0\n",
              "fruit_day         0\n",
              "greek_food        0\n",
              "indian_food       0\n",
              "italian_food      0\n",
              "marital_status    0\n",
              "persian_food      0\n",
              "thai_food         0\n",
              "veggies_day       0\n",
              "weight            0\n",
              "Age               0\n",
              "Nationality       0\n",
              "Food              0\n",
              "Dessert           0\n",
              "Drink             0\n",
              "dtype: int64"
            ]
          },
          "metadata": {},
          "execution_count": 5
        }
      ]
    },
    {
      "cell_type": "code",
      "source": [
        "df.duplicated().sum()"
      ],
      "metadata": {
        "colab": {
          "base_uri": "https://localhost:8080/"
        },
        "id": "uvygyLq7UrrH",
        "outputId": "b92a386d-8dad-4081-ff48-0abefe343a81"
      },
      "execution_count": 6,
      "outputs": [
        {
          "output_type": "execute_result",
          "data": {
            "text/plain": [
              "0"
            ]
          },
          "metadata": {},
          "execution_count": 6
        }
      ]
    },
    {
      "cell_type": "markdown",
      "source": [
        "### PEMROSESAN DATA"
      ],
      "metadata": {
        "id": "ienfzXTtWAJH"
      }
    },
    {
      "cell_type": "code",
      "source": [
        "import tensorflow as tf\n",
        "from sklearn.model_selection import train_test_split\n",
        "from sklearn.preprocessing import LabelEncoder"
      ],
      "metadata": {
        "id": "70Aq7WjvUu6s"
      },
      "execution_count": 7,
      "outputs": []
    },
    {
      "cell_type": "code",
      "source": [
        "label_encoder = LabelEncoder()\n",
        "df['Gender'] = label_encoder.fit_transform(df['Gender'])\n",
        "df['cuisine'] = label_encoder.fit_transform(df['cuisine'])\n",
        "df['fav_cuisine'] = label_encoder.fit_transform(df['fav_cuisine'])\n",
        "df['marital_status'] = label_encoder.fit_transform(df['marital_status'])\n",
        "df['Nationality'] = label_encoder.fit_transform(df['Nationality'])\n",
        "df['Food'] = label_encoder.fit_transform(df['Food'])\n",
        "df['Dessert'] = label_encoder.fit_transform(df['Dessert'])\n",
        "df['Drink'] = label_encoder.fit_transform(df['Drink'])"
      ],
      "metadata": {
        "id": "bP7QmbEsUyCi"
      },
      "execution_count": 8,
      "outputs": []
    },
    {
      "cell_type": "code",
      "source": [
        "# Mengonversi kolom 'Participant_ID' menjadi numerik menggunakan LabelEncoder\n",
        "label_encoder_participant = LabelEncoder()\n",
        "df['Participant_ID'] = label_encoder_participant.fit_transform(df['Participant_ID'])"
      ],
      "metadata": {
        "id": "Yi4ei4sjVw3X"
      },
      "execution_count": 9,
      "outputs": []
    },
    {
      "cell_type": "code",
      "source": [
        "# Membagi data menjadi data latih dan data uji\n",
        "train_data, test_data = train_test_split(df, test_size=0.2, random_state=42)"
      ],
      "metadata": {
        "id": "dT2KNnlgV2tH"
      },
      "execution_count": 10,
      "outputs": []
    },
    {
      "cell_type": "markdown",
      "source": [
        "### Pembuatan dan Pelatihan Model"
      ],
      "metadata": {
        "id": "sXaX6YOfWWiW"
      }
    },
    {
      "cell_type": "code",
      "source": [
        "# Membangun model collaborative filtering dengan TensorFlow\n",
        "embedding_size = 10"
      ],
      "metadata": {
        "id": "yBLDOpRnWZY3"
      },
      "execution_count": 11,
      "outputs": []
    },
    {
      "cell_type": "code",
      "source": [
        "user_input = tf.keras.layers.Input(shape=(1,), name='user_input')\n",
        "food_input = tf.keras.layers.Input(shape=(1,), name='food_input')"
      ],
      "metadata": {
        "id": "zYAlAwhfWbKK"
      },
      "execution_count": 12,
      "outputs": []
    },
    {
      "cell_type": "code",
      "source": [
        "user_embedding = tf.keras.layers.Embedding(input_dim=df['Participant_ID'].nunique(), output_dim=embedding_size, input_length=1)(user_input)\n",
        "food_embedding = tf.keras.layers.Embedding(input_dim=df['Food'].nunique(), output_dim=embedding_size, input_length=1)(food_input)"
      ],
      "metadata": {
        "id": "pZFaJwCCWe5v"
      },
      "execution_count": 13,
      "outputs": []
    },
    {
      "cell_type": "code",
      "source": [
        "user_vecs = tf.keras.layers.Flatten()(user_embedding)\n",
        "food_vecs = tf.keras.layers.Flatten()(food_embedding)"
      ],
      "metadata": {
        "id": "4N99MW2uWo1a"
      },
      "execution_count": 14,
      "outputs": []
    },
    {
      "cell_type": "code",
      "source": [
        "prod = tf.keras.layers.Dot(axes=1)([user_vecs, food_vecs])"
      ],
      "metadata": {
        "id": "m7kEqP80Wqks"
      },
      "execution_count": 15,
      "outputs": []
    },
    {
      "cell_type": "code",
      "source": [
        "model = tf.keras.models.Model(inputs=[user_input, food_input], outputs=prod)\n",
        "model.compile(optimizer='adam', loss='mean_squared_error')"
      ],
      "metadata": {
        "id": "4fSfTZILWv-m"
      },
      "execution_count": 16,
      "outputs": []
    },
    {
      "cell_type": "code",
      "source": [
        "# Melatih model\n",
        "model.fit([train_data['Participant_ID'], train_data['cuisine']], train_data['Dessert'], epochs=10, batch_size=32, validation_split=0.2)"
      ],
      "metadata": {
        "colab": {
          "base_uri": "https://localhost:8080/"
        },
        "id": "wY4SMh-1W0af",
        "outputId": "146081ff-6fd1-46d9-cfe2-84c9c0910423"
      },
      "execution_count": 17,
      "outputs": [
        {
          "output_type": "stream",
          "name": "stdout",
          "text": [
            "Epoch 1/10\n",
            "3/3 [==============================] - 1s 161ms/step - loss: 2.3796 - val_loss: 1.8730\n",
            "Epoch 2/10\n",
            "3/3 [==============================] - 0s 32ms/step - loss: 2.3780 - val_loss: 1.8730\n",
            "Epoch 3/10\n",
            "3/3 [==============================] - 0s 33ms/step - loss: 2.3764 - val_loss: 1.8729\n",
            "Epoch 4/10\n",
            "3/3 [==============================] - 0s 36ms/step - loss: 2.3748 - val_loss: 1.8728\n",
            "Epoch 5/10\n",
            "3/3 [==============================] - 0s 23ms/step - loss: 2.3730 - val_loss: 1.8726\n",
            "Epoch 6/10\n",
            "3/3 [==============================] - 0s 23ms/step - loss: 2.3711 - val_loss: 1.8725\n",
            "Epoch 7/10\n",
            "3/3 [==============================] - 0s 25ms/step - loss: 2.3690 - val_loss: 1.8723\n",
            "Epoch 8/10\n",
            "3/3 [==============================] - 0s 27ms/step - loss: 2.3666 - val_loss: 1.8720\n",
            "Epoch 9/10\n",
            "3/3 [==============================] - 0s 24ms/step - loss: 2.3638 - val_loss: 1.8718\n",
            "Epoch 10/10\n",
            "3/3 [==============================] - 0s 24ms/step - loss: 2.3609 - val_loss: 1.8716\n"
          ]
        },
        {
          "output_type": "execute_result",
          "data": {
            "text/plain": [
              "<keras.src.callbacks.History at 0x7dc298f71720>"
            ]
          },
          "metadata": {},
          "execution_count": 17
        }
      ]
    },
    {
      "cell_type": "markdown",
      "source": [
        "###EVALUASI MODEL"
      ],
      "metadata": {
        "id": "MN4I8cEwXRHa"
      }
    },
    {
      "cell_type": "code",
      "source": [
        "# Evaluasi model\n",
        "test_loss = model.evaluate([test_data['Participant_ID'], test_data['cuisine']], test_data['Dessert'])\n",
        "print(f'Test Loss: {test_loss}')"
      ],
      "metadata": {
        "colab": {
          "base_uri": "https://localhost:8080/"
        },
        "id": "QBBBOpyyXVU2",
        "outputId": "83c6d1e2-46f4-4894-e1b7-97d00d9970cf"
      },
      "execution_count": 18,
      "outputs": [
        {
          "output_type": "stream",
          "name": "stdout",
          "text": [
            "1/1 [==============================] - 0s 28ms/step - loss: 2.1965\n",
            "Test Loss: 2.1964871883392334\n"
          ]
        }
      ]
    }
  ]
}